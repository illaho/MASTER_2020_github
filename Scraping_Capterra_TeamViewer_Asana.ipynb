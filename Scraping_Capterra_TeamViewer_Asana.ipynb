{
  "nbformat": 4,
  "nbformat_minor": 0,
  "metadata": {
    "colab": {
      "name": "Scraping_Capterra_TeamViewer_Asana.ipynb",
      "provenance": [],
      "collapsed_sections": [],
      "authorship_tag": "ABX9TyOJoRqzoNjj5vZB/OPzYN5G",
      "include_colab_link": true
    },
    "kernelspec": {
      "display_name": "Python 3",
      "name": "python3"
    },
    "widgets": {
      "application/vnd.jupyter.widget-state+json": {
        "24a5c386bb194852a6f8715a1ff36e27": {
          "model_module": "@jupyter-widgets/controls",
          "model_name": "HBoxModel",
          "state": {
            "_view_name": "HBoxView",
            "_dom_classes": [],
            "_model_name": "HBoxModel",
            "_view_module": "@jupyter-widgets/controls",
            "_model_module_version": "1.5.0",
            "_view_count": null,
            "_view_module_version": "1.5.0",
            "box_style": "",
            "layout": "IPY_MODEL_59907895c8244635ab7de977de46c7ea",
            "_model_module": "@jupyter-widgets/controls",
            "children": [
              "IPY_MODEL_fac9ea3f3dc84764b08ad198a31df3ba",
              "IPY_MODEL_3d6fe7eae40f4192a303b10b2359ef94"
            ]
          }
        },
        "59907895c8244635ab7de977de46c7ea": {
          "model_module": "@jupyter-widgets/base",
          "model_name": "LayoutModel",
          "state": {
            "_view_name": "LayoutView",
            "grid_template_rows": null,
            "right": null,
            "justify_content": null,
            "_view_module": "@jupyter-widgets/base",
            "overflow": null,
            "_model_module_version": "1.2.0",
            "_view_count": null,
            "flex_flow": null,
            "width": null,
            "min_width": null,
            "border": null,
            "align_items": null,
            "bottom": null,
            "_model_module": "@jupyter-widgets/base",
            "top": null,
            "grid_column": null,
            "overflow_y": null,
            "overflow_x": null,
            "grid_auto_flow": null,
            "grid_area": null,
            "grid_template_columns": null,
            "flex": null,
            "_model_name": "LayoutModel",
            "justify_items": null,
            "grid_row": null,
            "max_height": null,
            "align_content": null,
            "visibility": null,
            "align_self": null,
            "height": null,
            "min_height": null,
            "padding": null,
            "grid_auto_rows": null,
            "grid_gap": null,
            "max_width": null,
            "order": null,
            "_view_module_version": "1.2.0",
            "grid_template_areas": null,
            "object_position": null,
            "object_fit": null,
            "grid_auto_columns": null,
            "margin": null,
            "display": null,
            "left": null
          }
        },
        "fac9ea3f3dc84764b08ad198a31df3ba": {
          "model_module": "@jupyter-widgets/controls",
          "model_name": "FloatProgressModel",
          "state": {
            "_view_name": "ProgressView",
            "style": "IPY_MODEL_b2728519c4e440d0803e8d8fb3b717fd",
            "_dom_classes": [],
            "description": " 10%",
            "_model_name": "FloatProgressModel",
            "bar_style": "",
            "max": 39,
            "_view_module": "@jupyter-widgets/controls",
            "_model_module_version": "1.5.0",
            "value": 4,
            "_view_count": null,
            "_view_module_version": "1.5.0",
            "orientation": "horizontal",
            "min": 0,
            "description_tooltip": null,
            "_model_module": "@jupyter-widgets/controls",
            "layout": "IPY_MODEL_0662904071cf4f8cb369cd6bc2a9f408"
          }
        },
        "3d6fe7eae40f4192a303b10b2359ef94": {
          "model_module": "@jupyter-widgets/controls",
          "model_name": "HTMLModel",
          "state": {
            "_view_name": "HTMLView",
            "style": "IPY_MODEL_e4a1a652533e49b883083f69df385be2",
            "_dom_classes": [],
            "description": "",
            "_model_name": "HTMLModel",
            "placeholder": "​",
            "_view_module": "@jupyter-widgets/controls",
            "_model_module_version": "1.5.0",
            "value": " 4/39 [00:50&lt;07:19, 12.55s/it]",
            "_view_count": null,
            "_view_module_version": "1.5.0",
            "description_tooltip": null,
            "_model_module": "@jupyter-widgets/controls",
            "layout": "IPY_MODEL_b82cc8bcc6a04b958dada44d8bd0ca55"
          }
        },
        "b2728519c4e440d0803e8d8fb3b717fd": {
          "model_module": "@jupyter-widgets/controls",
          "model_name": "ProgressStyleModel",
          "state": {
            "_view_name": "StyleView",
            "_model_name": "ProgressStyleModel",
            "description_width": "initial",
            "_view_module": "@jupyter-widgets/base",
            "_model_module_version": "1.5.0",
            "_view_count": null,
            "_view_module_version": "1.2.0",
            "bar_color": null,
            "_model_module": "@jupyter-widgets/controls"
          }
        },
        "0662904071cf4f8cb369cd6bc2a9f408": {
          "model_module": "@jupyter-widgets/base",
          "model_name": "LayoutModel",
          "state": {
            "_view_name": "LayoutView",
            "grid_template_rows": null,
            "right": null,
            "justify_content": null,
            "_view_module": "@jupyter-widgets/base",
            "overflow": null,
            "_model_module_version": "1.2.0",
            "_view_count": null,
            "flex_flow": null,
            "width": null,
            "min_width": null,
            "border": null,
            "align_items": null,
            "bottom": null,
            "_model_module": "@jupyter-widgets/base",
            "top": null,
            "grid_column": null,
            "overflow_y": null,
            "overflow_x": null,
            "grid_auto_flow": null,
            "grid_area": null,
            "grid_template_columns": null,
            "flex": null,
            "_model_name": "LayoutModel",
            "justify_items": null,
            "grid_row": null,
            "max_height": null,
            "align_content": null,
            "visibility": null,
            "align_self": null,
            "height": null,
            "min_height": null,
            "padding": null,
            "grid_auto_rows": null,
            "grid_gap": null,
            "max_width": null,
            "order": null,
            "_view_module_version": "1.2.0",
            "grid_template_areas": null,
            "object_position": null,
            "object_fit": null,
            "grid_auto_columns": null,
            "margin": null,
            "display": null,
            "left": null
          }
        },
        "e4a1a652533e49b883083f69df385be2": {
          "model_module": "@jupyter-widgets/controls",
          "model_name": "DescriptionStyleModel",
          "state": {
            "_view_name": "StyleView",
            "_model_name": "DescriptionStyleModel",
            "description_width": "",
            "_view_module": "@jupyter-widgets/base",
            "_model_module_version": "1.5.0",
            "_view_count": null,
            "_view_module_version": "1.2.0",
            "_model_module": "@jupyter-widgets/controls"
          }
        },
        "b82cc8bcc6a04b958dada44d8bd0ca55": {
          "model_module": "@jupyter-widgets/base",
          "model_name": "LayoutModel",
          "state": {
            "_view_name": "LayoutView",
            "grid_template_rows": null,
            "right": null,
            "justify_content": null,
            "_view_module": "@jupyter-widgets/base",
            "overflow": null,
            "_model_module_version": "1.2.0",
            "_view_count": null,
            "flex_flow": null,
            "width": null,
            "min_width": null,
            "border": null,
            "align_items": null,
            "bottom": null,
            "_model_module": "@jupyter-widgets/base",
            "top": null,
            "grid_column": null,
            "overflow_y": null,
            "overflow_x": null,
            "grid_auto_flow": null,
            "grid_area": null,
            "grid_template_columns": null,
            "flex": null,
            "_model_name": "LayoutModel",
            "justify_items": null,
            "grid_row": null,
            "max_height": null,
            "align_content": null,
            "visibility": null,
            "align_self": null,
            "height": null,
            "min_height": null,
            "padding": null,
            "grid_auto_rows": null,
            "grid_gap": null,
            "max_width": null,
            "order": null,
            "_view_module_version": "1.2.0",
            "grid_template_areas": null,
            "object_position": null,
            "object_fit": null,
            "grid_auto_columns": null,
            "margin": null,
            "display": null,
            "left": null
          }
        }
      }
    }
  },
  "cells": [
    {
      "cell_type": "markdown",
      "metadata": {
        "id": "view-in-github",
        "colab_type": "text"
      },
      "source": [
        "<a href=\"https://colab.research.google.com/github/illaho/MASTER_2020_github/blob/master/Scraping_Capterra_TeamViewer_Asana.ipynb\" target=\"_parent\"><img src=\"https://colab.research.google.com/assets/colab-badge.svg\" alt=\"Open In Colab\"/></a>"
      ]
    },
    {
      "cell_type": "code",
      "metadata": {
        "colab": {
          "base_uri": "https://localhost:8080/"
        },
        "id": "DuP_R67gqusg",
        "outputId": "eb9fb258-32d0-405d-f355-150692c1293b"
      },
      "source": [
        "!pip install selenium\n",
        "!apt-get update\n",
        "!apt install chromium-chromedriver\n",
        "!cp /usr/lib/chromium-browser/chromedriver /usr/bin"
      ],
      "execution_count": 22,
      "outputs": [
        {
          "output_type": "stream",
          "text": [
            "Requirement already satisfied: selenium in /usr/local/lib/python3.6/dist-packages (3.141.0)\n",
            "Requirement already satisfied: urllib3 in /usr/local/lib/python3.6/dist-packages (from selenium) (1.24.3)\n",
            "Ign:1 https://developer.download.nvidia.com/compute/cuda/repos/ubuntu1804/x86_64  InRelease\n",
            "Get:2 https://cloud.r-project.org/bin/linux/ubuntu bionic-cran40/ InRelease [3,626 B]\n",
            "Ign:3 https://developer.download.nvidia.com/compute/machine-learning/repos/ubuntu1804/x86_64  InRelease\n",
            "Hit:4 https://developer.download.nvidia.com/compute/cuda/repos/ubuntu1804/x86_64  Release\n",
            "Hit:5 https://developer.download.nvidia.com/compute/machine-learning/repos/ubuntu1804/x86_64  Release\n",
            "Hit:6 http://ppa.launchpad.net/c2d4u.team/c2d4u4.0+/ubuntu bionic InRelease\n",
            "Get:7 http://security.ubuntu.com/ubuntu bionic-security InRelease [88.7 kB]\n",
            "Hit:8 http://archive.ubuntu.com/ubuntu bionic InRelease\n",
            "Get:10 http://archive.ubuntu.com/ubuntu bionic-updates InRelease [88.7 kB]\n",
            "Hit:11 http://ppa.launchpad.net/graphics-drivers/ppa/ubuntu bionic InRelease\n",
            "Get:13 http://archive.ubuntu.com/ubuntu bionic-backports InRelease [74.6 kB]\n",
            "Get:14 http://archive.ubuntu.com/ubuntu bionic-updates/universe amd64 Packages [2,130 kB]\n",
            "Fetched 2,385 kB in 3s (948 kB/s)\n",
            "Reading package lists... Done\n",
            "Reading package lists... Done\n",
            "Building dependency tree       \n",
            "Reading state information... Done\n",
            "chromium-chromedriver is already the newest version (86.0.4240.198-0ubuntu0.18.04.1).\n",
            "0 upgraded, 0 newly installed, 0 to remove and 49 not upgraded.\n",
            "cp: '/usr/lib/chromium-browser/chromedriver' and '/usr/bin/chromedriver' are the same file\n"
          ],
          "name": "stdout"
        }
      ]
    },
    {
      "cell_type": "code",
      "metadata": {
        "id": "aYat5MwyrB9N"
      },
      "source": [
        "import sys\n",
        "sys.path.insert(0,'/usr/lib/chromium-browser/chromedriver')\n",
        "from selenium import webdriver\n",
        "from tqdm import tqdm_notebook as tqdm\n",
        "import pandas as pd\n",
        "import numpy as np\n",
        "import json\n",
        "import pprint\n",
        "import time\n",
        "import pprint"
      ],
      "execution_count": 2,
      "outputs": []
    },
    {
      "cell_type": "code",
      "metadata": {
        "id": "21yOrQeDrGV2"
      },
      "source": [
        "options = webdriver.ChromeOptions()\n",
        "options.add_argument('--headless')\n",
        "options.add_argument('--no-sandbox')\n",
        "options.add_argument('--disable-dev-shm-usage')"
      ],
      "execution_count": 3,
      "outputs": []
    },
    {
      "cell_type": "code",
      "metadata": {
        "id": "NVlB-HWZrM32"
      },
      "source": [
        "wd = webdriver.Chrome('chromedriver', options=options)\n",
        "wd.get(\"https://www.capterra.com/p/120550/Asana/reviews/\")\n",
        "#wd.get(\"https://www.capterra.com/p/194565/TeamViewer/reviews/\") "
      ],
      "execution_count": 17,
      "outputs": []
    },
    {
      "cell_type": "code",
      "metadata": {
        "id": "AGsw6S15rQ8-",
        "colab": {
          "base_uri": "https://localhost:8080/",
          "height": 286
        },
        "outputId": "b1546bdb-b8e3-4d62-eca2-9c7f5c641f13"
      },
      "source": [
        "wd.save_screenshot('screenshot.png')\n",
        "%pylab inline\n",
        "import matplotlib.pyplot as plt\n",
        "import matplotlib.image as mpimg\n",
        "img=mpimg.imread('/content/screenshot.png')\n",
        "imgplot = plt.imshow(img)\n",
        "plt.show()"
      ],
      "execution_count": 18,
      "outputs": [
        {
          "output_type": "stream",
          "text": [
            "Populating the interactive namespace from numpy and matplotlib\n"
          ],
          "name": "stdout"
        },
        {
          "output_type": "display_data",
          "data": {
            "image/png": "[encoded data removed]",
            "text/plain": [
              "<Figure size 432x288 with 1 Axes>"
            ]
          },
          "metadata": {
            "tags": [],
            "needs_background": "light"
          }
        }
      ]
    },
    {
      "cell_type": "code",
      "metadata": {
        "id": "nUa97XajFUEY"
      },
      "source": [
        "list_50 =[]\n",
        "for i in range(1,183):\n",
        "   multiplo = 50*i\n",
        "   list_50.append(multiplo)\n",
        "#print(list_50)"
      ],
      "execution_count": 5,
      "outputs": []
    },
    {
      "cell_type": "code",
      "metadata": {
        "id": "AYCKtAqKDFp8"
      },
      "source": [
        "num_reviews = wd.find_element_by_css_selector(\"span.Responsive__HideForMobile-sc-4qthxq-0.fQJWO div.StarRating__Count-sc-9jwzgg-2.iQfOTw\").text.split(\"(\")[1].split(\")\")[0]\n",
        "#print(num_reviews)\n",
        "num_reviews = int(num_reviews)"
      ],
      "execution_count": 19,
      "outputs": []
    },
    {
      "cell_type": "code",
      "metadata": {
        "colab": {
          "base_uri": "https://localhost:8080/",
          "height": 121,
          "referenced_widgets": [
            "24a5c386bb194852a6f8715a1ff36e27",
            "59907895c8244635ab7de977de46c7ea",
            "fac9ea3f3dc84764b08ad198a31df3ba",
            "3d6fe7eae40f4192a303b10b2359ef94",
            "b2728519c4e440d0803e8d8fb3b717fd",
            "0662904071cf4f8cb369cd6bc2a9f408",
            "e4a1a652533e49b883083f69df385be2",
            "b82cc8bcc6a04b958dada44d8bd0ca55"
          ]
        },
        "id": "V8voIn3x10Fb",
        "outputId": "9dcb1ef6-b8f6-4c86-c321-0a75380c9aa3"
      },
      "source": [
        "\"\"\"per scraping in più volte, devo ricaricare le reviews, il bottone in fondo carica 50 reviews alla volta\n",
        "for i in tqdm(range(1, 40)):\n",
        "  time.sleep(5 + np.random.randn()*0.2)\n",
        "  wd.find_element_by_css_selector('#LoadableReviewSection > div > div.gtm-review-section > div.WidthLimiter__Root-sjrjtk-0.gIbRfg > div > div > button > div.Button__CenteredText-sc-1p3sq94-4').click()"
      ],
      "execution_count": null,
      "outputs": [
        {
          "output_type": "stream",
          "text": [
            "/usr/local/lib/python3.6/dist-packages/ipykernel_launcher.py:1: TqdmDeprecationWarning: This function will be removed in tqdm==5.0.0\n",
            "Please use `tqdm.notebook.tqdm` instead of `tqdm.tqdm_notebook`\n",
            "  \"\"\"Entry point for launching an IPython kernel.\n"
          ],
          "name": "stderr"
        },
        {
          "output_type": "display_data",
          "data": {
            "application/vnd.jupyter.widget-view+json": {
              "model_id": "24a5c386bb194852a6f8715a1ff36e27",
              "version_minor": 0,
              "version_major": 2
            },
            "text/plain": [
              "HBox(children=(FloatProgress(value=0.0, max=39.0), HTML(value='')))"
            ]
          },
          "metadata": {
            "tags": []
          }
        }
      ]
    },
    {
      "cell_type": "code",
      "metadata": {
        "id": "AUhuLcZzTm6B"
      },
      "source": [
        "review = []\n",
        "#wd.find_element_by_css_selector('#LoadableReviewSection > div > div.gtm-review-section > div.WidthLimiter__Root-sjrjtk-0.gIbRfg > div > div > button > div.Button__CenteredText-sc-1p3sq94-4').click()\n",
        "for num in tqdm(range(1, num_reviews + 1)): \n",
        "    index = num\n",
        "    Piattaforma = \"Asana\" #TeamViewer\n",
        "    #ID_General = index + \" \" + Piattaforma\n",
        "    details_container = wd.find_element_by_css_selector(f\"div.gtm-review-section > div:nth-child({num}) > div > div > div > div:nth-child(1) > div.ReviewerAvatarSection__Root-sc-1a80501-0.qIcnK > div.ReviewerAvatarSection__ReviewerInfo-sc-1a80501-1.cSadMy\")\n",
        "    User = details_container.find_element_by_css_selector(\"div.ReviewerAvatarSection__ReviewerName-sc-1a80501-2.gJQgt\").text\n",
        "    Lavoro = details_container.find_element_by_css_selector(\"div.ReviewerAvatarSection__ReviewerDetails-sc-1a80501-4.bInnRf > div:nth-child(1)\").text\n",
        "    Settore = details_container.find_element_by_css_selector(\" div.ReviewerAvatarSection__ReviewerDetails-sc-1a80501-4.bInnRf > div:nth-child(2)\").text.split(',')[0] #check solo personale\n",
        "    Utilizzo_software = wd.find_element_by_css_selector(\" div.ReviewerAvatarSection__ReviewerDetails-sc-1a80501-4.bInnRf > div:nth-child(3)\").text.split(': ')[-1]\n",
        "    review_container = wd.find_element_by_css_selector(f\"div.gtm-review-section > div:nth-child({num}) > div > div > div > div.ReviewCard__RightFlexItem-sc-18j15p9-3.cOmWnW.ReviewCard__FlexItem-sc-18j15p9-2.bTVfYT\")\n",
        "    titoloReview = review_container.find_element_by_css_selector(\"h3\").text\n",
        "    Commenti = review_container.find_element_by_css_selector(\"div.VisibleInViewport__Root-rewj2p-0.gMsvlr > div:nth-child(2)\").text\n",
        "    Vantaggi = review_container.find_element_by_css_selector(\"div.VisibleInViewport__Root-rewj2p-0.gMsvlr > div:nth-child(3)\").text  \n",
        "    Incovenienti = review_container.find_element_by_css_selector(\"div.VisibleInViewport__Root-rewj2p-0.gMsvlr > div:nth-child(4)\").text\n",
        "    Data_Recensione = wd.find_element_by_css_selector(f\"div.gtm-review-section > div:nth-child({num}) > div > div > div > div:nth-child(1) > div.ReviewCard__DesktopOnlyDiv-sc-18j15p9-6.gckeCD > div.ReviewSource__Root-lnjke6-0.iBAGLQ > div:nth-child(3)\").text\n",
        "    ValutazioneComplessiva = wd.find_element_by_css_selector(f\"div.gtm-review-section > div:nth-child({num}) > div > div > div > div:nth-child(1) > strong > div > div.StarRating__Root-sc-9jwzgg-0.bQJsCF > div.StarRating__Rating-sc-9jwzgg-1.kCLiav\").text.strip(\"/\")[0]\n",
        "    star_container = wd.find_elements_by_css_selector(f\"div.gtm-review-section > div:nth-child({num}) > div > div > div > div:nth-child(1) > div\")\n",
        "    lunghezza = len(star_container)\n",
        "    star = wd.find_element_by_css_selector(f\"div.gtm-review-section > div:nth-child({num}) > div > div > div > div:nth-child(1)\")\n",
        "    #print(lung)\n",
        "    if lunghezza == 8:\n",
        "      star_1 = star.find_element_by_css_selector(\"div:nth-child(3) > div:nth-child(1)\").text + \" \" + star.find_element_by_css_selector(\"div:nth-child(3) > div.StarRating__Root-sc-9jwzgg-0.bQJsCF > div.StarRating__Rating-sc-9jwzgg-1.kCLiav\").text.split(\"/\")[0]\n",
        "      star_2 = star.find_element_by_css_selector(\"div:nth-child(4) > div:nth-child(1)\").text + \" \" + star.find_element_by_css_selector(\"div:nth-child(4) > div.StarRating__Root-sc-9jwzgg-0.bQJsCF > div.StarRating__Rating-sc-9jwzgg-1.kCLiav\").text.split(\"/\")[0]\n",
        "      star_3 = star.find_element_by_css_selector(\"div:nth-child(5) > div:nth-child(1)\").text + \" \" + star.find_element_by_css_selector(\"div:nth-child(5) > div.StarRating__Root-sc-9jwzgg-0.bQJsCF > div.StarRating__Rating-sc-9jwzgg-1.kCLiav\").text.split(\"/\")[0]\n",
        "      star_4 = star.find_element_by_css_selector(\"div:nth-child(6) > div:nth-child(1)\").text + \" \" + star.find_element_by_css_selector(\"div:nth-child(6) > div.StarRating__Root-sc-9jwzgg-0.bQJsCF > div.StarRating__Rating-sc-9jwzgg-1.kCLiav\").text.split(\"/\")[0]\n",
        "    elif lunghezza == 7:\n",
        "      star_1 = star.find_element_by_css_selector(\"div:nth-child(3) > div:nth-child(1)\").text + \" \" + star.find_element_by_css_selector(\"div:nth-child(3) > div.StarRating__Root-sc-9jwzgg-0.bQJsCF > div.StarRating__Rating-sc-9jwzgg-1.kCLiav\").text.split(\"/\")[0]\n",
        "      star_2 = star.find_element_by_css_selector(\"div:nth-child(4) > div:nth-child(1)\").text + \" \" + star.find_element_by_css_selector(\"div:nth-child(4) > div.StarRating__Root-sc-9jwzgg-0.bQJsCF > div.StarRating__Rating-sc-9jwzgg-1.kCLiav\").text.split(\"/\")[0]\n",
        "      star_3 = star.find_element_by_css_selector(\"div:nth-child(5) > div:nth-child(1)\").text + \" \" + star.find_element_by_css_selector(\"div:nth-child(5) > div.StarRating__Root-sc-9jwzgg-0.bQJsCF > div.StarRating__Rating-sc-9jwzgg-1.kCLiav\").text.split(\"/\")[0]\n",
        "      star_4 = \"\"\n",
        "    elif lunghezza == 6:\n",
        "      star_1 = star.find_element_by_css_selector(\"div:nth-child(3) > div:nth-child(1)\").text + \" \" + star.find_element_by_css_selector(\"div:nth-child(3) > div.StarRating__Root-sc-9jwzgg-0.bQJsCF > div.StarRating__Rating-sc-9jwzgg-1.kCLiav\").text.split(\"/\")[0]\n",
        "      star_2 = star.find_element_by_css_selector(\"div:nth-child(4) > div:nth-child(1)\").text + \" \" + star.find_element_by_css_selector(\"div:nth-child(4) > div.StarRating__Root-sc-9jwzgg-0.bQJsCF > div.StarRating__Rating-sc-9jwzgg-1.kCLiav\").text.split(\"/\")[0]\n",
        "      star_3 = \"\"\n",
        "      star_4 = \"\"\n",
        "    elif lunghezza == 5:\n",
        "      star_1 = star.find_element_by_css_selector(\"div:nth-child(3) > div:nth-child(1)\").text + \" \" + star.find_element_by_css_selector(\"div:nth-child(3) > div.StarRating__Root-sc-9jwzgg-0.bQJsCF > div.StarRating__Rating-sc-9jwzgg-1.kCLiav\").text.split(\"/\")[0]\n",
        "      star_2 = \"\"\n",
        "      star_3 = \"\"\n",
        "      star_4 = \"\"\n",
        "    else:\n",
        "      star_1 = \"\"\n",
        "      star_2 = \"\"\n",
        "      star_3 = \"\"\n",
        "      star_4 = \"\" \n",
        "    try:\n",
        "      Consigliato = star.find_element_by_css_selector(\"span\").text.split(\"/\")[0] \n",
        "    except:\n",
        "      Consigliato = \"\"\n",
        "    review.append({'index': index,\n",
        "                   'Piattaforma': Piattaforma,\n",
        "                   'User': User,\n",
        "                   'Lavoro': Lavoro,\n",
        "                   'Settore': Settore,\n",
        "                   'Utilizzo_software': Utilizzo_software,\n",
        "                   'titoloReview': titoloReview,\n",
        "                   'Commenti': Commenti,\n",
        "                   'Data_Recensione': Data_Recensione,\n",
        "                   'Vantaggi': Vantaggi,\n",
        "                   'Incovenienti': Incovenienti,\n",
        "                   'ValutazioneComplessiva': ValutazioneComplessiva,\n",
        "                   'star_1': star_1,\n",
        "                   'star_2': star_2,\n",
        "                   'star_3': star_3,\n",
        "                   'star_4': star_4,\n",
        "                   'Consigliato': Consigliato}) \n",
        "    if num in list_50:\n",
        "      time.sleep(3 + np.random.randn()*0.2)\n",
        "      try: \n",
        "        wd.find_element_by_css_selector('#LoadableReviewSection > div > div.gtm-review-section > div.WidthLimiter__Root-sjrjtk-0.gIbRfg > div > div > button > div.Button__CenteredText-sc-1p3sq94-4').click()\n",
        "      except:\n",
        "        pass  \n",
        "\n",
        "print(len(review))\n",
        "#pprint.pprint(review)   \n",
        "ds_detail_review = pd.DataFrame(review)\n",
        "ds_detail_review.set_index(\"index\")\n",
        "#ds_detail_review.head()\n",
        "ds_detail_review.info()\n",
        "ds_detail_review.to_csv('ds_review_Asana.csv') #TeamViewer"
      ],
      "execution_count": null,
      "outputs": []
    },
    {
      "cell_type": "code",
      "metadata": {
        "id": "wmuaci3c_kr3"
      },
      "source": [
        "ds_detail_review.head(100)"
      ],
      "execution_count": null,
      "outputs": []
    }
  ]
}